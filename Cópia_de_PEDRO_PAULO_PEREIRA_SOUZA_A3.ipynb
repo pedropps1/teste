{
  "nbformat": 4,
  "nbformat_minor": 0,
  "metadata": {
    "colab": {
      "provenance": [],
      "include_colab_link": true
    },
    "kernelspec": {
      "name": "python3",
      "display_name": "Python 3"
    },
    "language_info": {
      "name": "python"
    }
  },
  "cells": [
    {
      "cell_type": "markdown",
      "metadata": {
        "id": "view-in-github",
        "colab_type": "text"
      },
      "source": [
        "<a href=\"https://colab.research.google.com/github/pedropps1/teste/blob/main/C%C3%B3pia_de_PEDRO_PAULO_PEREIRA_SOUZA_A3.ipynb\" target=\"_parent\"><img src=\"https://colab.research.google.com/assets/colab-badge.svg\" alt=\"Open In Colab\"/></a>"
      ]
    },
    {
      "cell_type": "markdown",
      "source": [
        "# Exercício 1:\n",
        "\n",
        "Considere o seguinte jogo de dois jogadores:\n",
        "\n",
        "> O jogo começa com um número inteiro N escolhido aleatoriamente. \\\n",
        "> A seguir, o jogo segue em turnos entre os jogadores P(+1) e P(-1). \\\n",
        "> Em cada turno, o jogador da rodada deve escolher entre duas ações: \\\n",
        ">  - decrementar N (N - 1)\n",
        ">  - dividir N por 2 e arredondar para baixo (N//2)\n",
        ">\n",
        "> O jogador que terminar com 0 é o vencedor.\n",
        "\n",
        "Exemplos de jogo:\n",
        "\n",
        "> N sorteado: 1 \\\n",
        "> N = 1 \\\n",
        "> P(+1): N - 1 \\\n",
        "> N = 0 \\\n",
        "> P(-1) -> Vencedor \\\n",
        "\n",
        "=======================\n",
        "\n",
        "> N sorteado: 10 \\\n",
        "> N = 10 \\\n",
        "> P(+1): N - 1 \\\n",
        "> N = 9 \\\n",
        "> P(-1): N//2 \\\n",
        "> N = 4 \\\n",
        "> P(+1): N - 1 \\\n",
        "> N = 3 \\\n",
        "> P(-1): N - 1 \\\n",
        "> N = 2 \\\n",
        "> P(+1): N//2 \\\n",
        "> N = 1 \\\n",
        "> P(-1): N - 1 \\\n",
        "> N = 0 \\\n",
        "> P(+1) -> Vencedor \\\n",
        "\n",
        "======================="
      ],
      "metadata": {
        "id": "8fuXnx1MkWtR"
      }
    },
    {
      "cell_type": "code",
      "execution_count": null,
      "metadata": {
        "id": "lyPODZEBhHQv"
      },
      "outputs": [],
      "source": [
        "from random import randint\n",
        "\n",
        "class HalvingGame:\n",
        "    def __init__(self, N_start=None, max_N=20):\n",
        "        if not N_start: N_start = randint(1, max_N)\n",
        "        self.N_start = N_start\n",
        "\n",
        "    def startState(self):\n",
        "        player = +1\n",
        "        return (player, self.N_start)\n",
        "\n",
        "    def isEnd(self, state):\n",
        "        p, N = state\n",
        "        return N == 0\n",
        "\n",
        "    def utility(self, state):\n",
        "        p, N = state\n",
        "        assert N == 0\n",
        "        return p*float('inf')\n",
        "\n",
        "    def actions(self, state):\n",
        "        return ['-', '/']\n",
        "\n",
        "    def player(self, state):\n",
        "        p, N = state\n",
        "        return p\n",
        "\n",
        "    def successor(self, state, action):\n",
        "        p, N = state\n",
        "        if action == '-':\n",
        "            return (-p, N - 1)\n",
        "        if action == '/':\n",
        "            return (-p, N//2)\n",
        "\n",
        "def humanPolicy(game, state):\n",
        "    while True:\n",
        "        action = input(f'P({state[0]}) [- or /]: ')\n",
        "        if action in game.actions(state):\n",
        "            return action\n",
        "\n",
        "def run_game(policies, N_start=None, max_N=20):\n",
        "    game = HalvingGame(N_start, max_N)\n",
        "    state = game.startState()\n",
        "    while not game.isEnd(state):\n",
        "        print('='*10, state)\n",
        "        player = game.player(state)\n",
        "        policy = policies[player]\n",
        "        action = policy(game, state)\n",
        "        state = game.successor(state, action)\n",
        "\n",
        "    print(f'utility = {game.utility(state)}')"
      ]
    },
    {
      "cell_type": "markdown",
      "source": [
        "Experimente o jogo com um amigo na célula abaixo."
      ],
      "metadata": {
        "id": "0h6fo-iSkhwx"
      }
    },
    {
      "cell_type": "code",
      "source": [
        "policies = {+1: humanPolicy, -1: humanPolicy}\n",
        "run_game(policies, max_N=10) # experimente com diferentes valores de max_N ou para valores fixo de N_start"
      ],
      "metadata": {
        "id": "9vuHJfI6kj9R"
      },
      "execution_count": null,
      "outputs": []
    },
    {
      "cell_type": "markdown",
      "source": [
        "Implemente a política minimax para o jogo."
      ],
      "metadata": {
        "id": "I2VQu6R7knbe"
      }
    },
    {
      "cell_type": "code",
      "source": [
        "def minimaxPolicy(game, state):\n",
        "    # TODO\n",
        "    return action"
      ],
      "metadata": {
        "id": "YXlIFqkakm2i"
      },
      "execution_count": null,
      "outputs": []
    },
    {
      "cell_type": "markdown",
      "source": [
        "Colocando duas políticas minimax como adversárias e variando N_start entre 1 e 1000, quem ganha mais jogos, o jogador +1 ou o jogador -1? E quantos jogos cada jogador ganha?"
      ],
      "metadata": {
        "id": "I3R3IZwimC3P"
      }
    },
    {
      "cell_type": "code",
      "source": [],
      "metadata": {
        "id": "-mBuWQwFdL7w"
      },
      "execution_count": null,
      "outputs": []
    },
    {
      "cell_type": "markdown",
      "source": [
        "# Exercício 2:\n",
        "\n",
        "Execute as céculas abaixo para instalar e importar o pacote necessário para o exercício."
      ],
      "metadata": {
        "id": "NbwFXHeCdSpe"
      }
    },
    {
      "cell_type": "code",
      "source": [
        "!pip install gymnasium"
      ],
      "metadata": {
        "id": "63JMQM0edbAi",
        "colab": {
          "base_uri": "https://localhost:8080/"
        },
        "outputId": "8a308c07-e9ff-411b-d10a-6801d8b7ab79"
      },
      "execution_count": 1,
      "outputs": [
        {
          "output_type": "stream",
          "name": "stdout",
          "text": [
            "Collecting gymnasium\n",
            "  Downloading gymnasium-0.29.1-py3-none-any.whl.metadata (10 kB)\n",
            "Requirement already satisfied: numpy>=1.21.0 in /usr/local/lib/python3.10/dist-packages (from gymnasium) (1.26.4)\n",
            "Requirement already satisfied: cloudpickle>=1.2.0 in /usr/local/lib/python3.10/dist-packages (from gymnasium) (2.2.1)\n",
            "Requirement already satisfied: typing-extensions>=4.3.0 in /usr/local/lib/python3.10/dist-packages (from gymnasium) (4.12.2)\n",
            "Collecting farama-notifications>=0.0.1 (from gymnasium)\n",
            "  Downloading Farama_Notifications-0.0.4-py3-none-any.whl.metadata (558 bytes)\n",
            "Downloading gymnasium-0.29.1-py3-none-any.whl (953 kB)\n",
            "\u001b[2K   \u001b[90m━━━━━━━━━━━━━━━━━━━━━━━━━━━━━━━━━━━━━━━━\u001b[0m \u001b[32m953.9/953.9 kB\u001b[0m \u001b[31m9.2 MB/s\u001b[0m eta \u001b[36m0:00:00\u001b[0m\n",
            "\u001b[?25hDownloading Farama_Notifications-0.0.4-py3-none-any.whl (2.5 kB)\n",
            "Installing collected packages: farama-notifications, gymnasium\n",
            "Successfully installed farama-notifications-0.0.4 gymnasium-0.29.1\n"
          ]
        }
      ]
    },
    {
      "cell_type": "code",
      "source": [
        "import gymnasium as gym"
      ],
      "metadata": {
        "id": "jdLHDOzidfGG"
      },
      "execution_count": null,
      "outputs": []
    },
    {
      "cell_type": "markdown",
      "source": [
        "## Gymnasium\n",
        "\n",
        "O [Gymnasium](https://gymnasium.farama.org/) visa fornecer um benchmark fácil de configurar com uma ampla variedade de ambientes diferentes. O objetivo é padronizar como os ambientes são definidos nas publicações de pesquisa de IA para que as pesquisas publicadas se tornem mais facilmente reprodutíveis. O projeto pretende fornecer ao usuário uma interface simples.\n",
        "\n",
        "\n",
        "A peça central do Gym é o ambiente, que define o problema em que seu algoritmo de reforço atuará.\n",
        "\n",
        "O ambiente possui alguns métodos básicos:\n",
        "\n",
        "- **reset**: reinicia o ambiente ao seu estado inicial\n",
        "- **step**: Dá um passo adiante na simulação do ambiente\n",
        "  - retorna uma observação, a recomensa, um sinalizador de término do episódio, e informações adicionais (caso relevantes).\n",
        "- **render**: renderiza o ambiente para visualização de seu estado atuado (Não utilizado neste notebook)\n",
        "  - retorna apenas a observação inicial."
      ],
      "metadata": {
        "id": "BM_ONXaTdhfx"
      }
    },
    {
      "cell_type": "markdown",
      "source": [
        "Abaixo temos um ambiente FrozenLake [https://gymnasium.farama.org/environments/toy_text/frozen_lake/#frozen-lake] que representa um MDP que será utilizado na atividade."
      ],
      "metadata": {
        "id": "q7br8J4edlJp"
      }
    },
    {
      "cell_type": "code",
      "source": [
        "env = gym.make('FrozenLake-v1', desc=None, map_name=\"4x4\", is_slippery=True)"
      ],
      "metadata": {
        "id": "fvCRi-W-diF1"
      },
      "execution_count": null,
      "outputs": []
    },
    {
      "cell_type": "markdown",
      "source": [
        "## Random Agent\n",
        "\n",
        "Abaixo temos o código para um agente que age aleatoriamente interagindo com o ambiente criado anteriormente."
      ],
      "metadata": {
        "id": "LgcgDDuXi2Rr"
      }
    },
    {
      "cell_type": "code",
      "source": [
        "class RandomAgent:\n",
        "    def __init__(\n",
        "        self,\n",
        "        action_space\n",
        "    ):\n",
        "        self.action_space = action_space\n",
        "\n",
        "    def get_action(\n",
        "        self,\n",
        "        state\n",
        "    ):\n",
        "        return self.action_space.sample()\n",
        "\n",
        "    def update(\n",
        "        self,\n",
        "        state,\n",
        "        action,\n",
        "        reward,\n",
        "        done,\n",
        "        next_state,\n",
        "    ):\n",
        "        pass"
      ],
      "metadata": {
        "id": "z0ILIJzVjQU-"
      },
      "execution_count": null,
      "outputs": []
    },
    {
      "cell_type": "markdown",
      "source": [
        "## Fluxo de Interação\n",
        "\n",
        "![image.png](data:image/png;base64,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)"
      ],
      "metadata": {
        "id": "KGpRvbMgeAnQ"
      }
    },
    {
      "cell_type": "markdown",
      "source": [
        "O fluxo de interação entre um agente e um ambiente durante alguns episódios é codificado da seguinte forma:"
      ],
      "metadata": {
        "id": "T3iS7RtBeD0-"
      }
    },
    {
      "cell_type": "code",
      "source": [
        "from tqdm import tqdm\n",
        "\n",
        "def run_interaction(env, agent, n_episodes):\n",
        "    rewards = []\n",
        "    for episode in tqdm(range(n_episodes)):\n",
        "        state, info = env.reset()\n",
        "        done = False\n",
        "\n",
        "        total_reward = 0\n",
        "        # play one episode\n",
        "        while not done:\n",
        "            action = agent.get_action(state)\n",
        "            next_state, reward, terminated, truncated, info = env.step(action)\n",
        "\n",
        "            # update the agent\n",
        "            done = terminated or truncated\n",
        "            agent.update(state, action, reward, done, next_state)\n",
        "\n",
        "            # update the current state\n",
        "            state = next_state\n",
        "\n",
        "            total_reward += reward\n",
        "\n",
        "        rewards += [total_reward]\n",
        "    return rewards"
      ],
      "metadata": {
        "id": "Irn3d54yeBIC"
      },
      "execution_count": null,
      "outputs": []
    },
    {
      "cell_type": "markdown",
      "source": [
        "Como podemos ver abaixo, um agente aleatório não aprende nada sobre o ambiente e, por isso, sua recompensa média por episódio é relativamente constante mesmo após 10000 iterações."
      ],
      "metadata": {
        "id": "EeKbXCsoqATC"
      }
    },
    {
      "cell_type": "code",
      "source": [
        "import numpy as np\n",
        "from matplotlib import pyplot as plt"
      ],
      "metadata": {
        "id": "nF6PCXeyqyxn"
      },
      "execution_count": null,
      "outputs": []
    },
    {
      "cell_type": "code",
      "source": [
        "n_episodes = int(1e4)\n",
        "\n",
        "rewards = run_interaction(env, RandomAgent(env.action_space), n_episodes)\n",
        "mean_rewards = np.array(rewards).reshape(-1, 100).mean(axis=-1)\n",
        "plt.plot(mean_rewards)"
      ],
      "metadata": {
        "id": "N8RHoYYQ0F30"
      },
      "execution_count": null,
      "outputs": []
    },
    {
      "cell_type": "markdown",
      "source": [
        "## Q-learning Agent\n",
        "\n",
        "Abaixo temos o esqueleto de um agente que utiliza o algoritmo Q-learning para aprender a maximizar o retorno esperado no ambiente onde estiver interagindo."
      ],
      "metadata": {
        "id": "wz9YU49bdq5P"
      }
    },
    {
      "cell_type": "code",
      "source": [
        "from collections import defaultdict\n",
        "\n",
        "class QLearningAgent:\n",
        "    def __init__(\n",
        "        self,\n",
        "        action_space,\n",
        "        learning_rate: float,\n",
        "        initial_epsilon: float,\n",
        "        epsilon_decay: float,\n",
        "        final_epsilon: float,\n",
        "        discount_factor: float,\n",
        "    ):\n",
        "        \"\"\"Inicializa um agente de RL com um dict vazio de q_values,\n",
        "        uma taxa de aprendizado e um epsilon.\n",
        "\n",
        "        Args:\n",
        "            action_space: env.action_space do env a ser avaliado\n",
        "            learning_rate: taxa de aprendizado\n",
        "            initial_epsilon: valor inicial de epsilon\n",
        "            epsilon_decay: fator de decaimento de epsilon\n",
        "            final_epsilon: valor final de epsilon\n",
        "            discount_factor: fator de disconto para calcular os q_values\n",
        "        \"\"\"\n",
        "        self.action_space = action_space\n",
        "\n",
        "        self.q_values = defaultdict(lambda: np.zeros(action_space.n))\n",
        "\n",
        "        self.lr = learning_rate\n",
        "        self.discount_factor = discount_factor\n",
        "\n",
        "        self.epsilon = initial_epsilon\n",
        "        self.epsilon_decay = epsilon_decay\n",
        "        self.final_epsilon = final_epsilon\n",
        "\n",
        "    def get_action(self, state):\n",
        "        ############\n",
        "        ### TODO\n",
        "        pass\n",
        "        ############\n",
        "\n",
        "    def update(\n",
        "        self,\n",
        "        state,\n",
        "        action,\n",
        "        reward,\n",
        "        done,\n",
        "        next_state,\n",
        "    ):\n",
        "        ############\n",
        "        ### TODO\n",
        "        ############\n",
        "\n",
        "        if done:\n",
        "            self.decay_epsilon()\n",
        "\n",
        "    def decay_epsilon(self):\n",
        "        self.epsilon = max(self.final_epsilon, self.epsilon - self.epsilon_decay)"
      ],
      "metadata": {
        "id": "Boa3gKKYduEp"
      },
      "execution_count": null,
      "outputs": []
    },
    {
      "cell_type": "code",
      "source": [
        "# hyperparameters\n",
        "learning_rate = ?\n",
        "start_epsilon = ?\n",
        "epsilon_decay = start_epsilon / (n_episodes / 2)  # reduce the exploration over time\n",
        "final_epsilon = ?\n",
        "discount_factor = 0.9\n",
        "\n",
        "agent = QLearningAgent(\n",
        "    env.action_space,\n",
        "    learning_rate=learning_rate,\n",
        "    initial_epsilon=start_epsilon,\n",
        "    epsilon_decay=epsilon_decay,\n",
        "    final_epsilon=final_epsilon,\n",
        "    discount_factor=discount_factor\n",
        ")"
      ],
      "metadata": {
        "id": "ZYlmkYCYd9j_"
      },
      "execution_count": null,
      "outputs": []
    },
    {
      "cell_type": "markdown",
      "source": [
        "Implemente as funções *get_action* e *update*, e experimente valores diferentes para os hiperparâmetros acima afim de demonstrar o algoritmo Q-learning em funcionamento mostrando a curva de retorno médio x episódio para o fluxo de interação codificado anteriormente."
      ],
      "metadata": {
        "id": "H6ILdpTdeGap"
      }
    },
    {
      "cell_type": "code",
      "source": [
        "rewards = run_interaction(env, agent, n_episodes)\n",
        "mean_rewards = np.array(rewards).reshape(-1, 100).mean(axis=-1)\n",
        "plt.plot(mean_rewards)"
      ],
      "metadata": {
        "id": "8UhOYZ55eJr4"
      },
      "execution_count": null,
      "outputs": []
    },
    {
      "cell_type": "markdown",
      "source": [
        "# Exercício 3:\n",
        "\n",
        "## Sudoku\n",
        "\n",
        "A seguir temos uma implementação para o famoso jogo Sudoku.\n",
        "\n",
        "Nessa implementação, cada casa do tabuleiro é representada como uma combinação de uma letra (A, B, C, ..., I) e um número (1, 2, 3, ..., 9) conforme ilustrado na figura a seguir:"
      ],
      "metadata": {
        "id": "xh-Ew1jk1sai"
      }
    },
    {
      "cell_type": "markdown",
      "source": [
        "![image.png](data:image/png;base64,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)"
      ],
      "metadata": {
        "id": "WBsHfH3D4zTf"
      }
    },
    {
      "cell_type": "code",
      "source": [
        "rows = 'ABCDEFGHI'\n",
        "cols = '123456789'\n",
        "\n",
        "def cross(a, b):\n",
        "    return [s+t for s in a for t in b]\n",
        "\n",
        "boxes = cross(rows, cols)\n",
        "print(f'[{boxes[0]}, {boxes[1]}, {boxes[2]}, ... , {boxes[-3]}, {boxes[-2]}, {boxes[-1]}]')"
      ],
      "metadata": {
        "id": "QhEDvFX71ytc"
      },
      "execution_count": null,
      "outputs": []
    },
    {
      "cell_type": "markdown",
      "source": [
        "Para representar o tabuleiro, são utilizadas duas formas:\n",
        "\n",
        "  - *grid_str*: representação em string para o estado inicial do tabuleiro, em que as casas estão dispostas em sequência (\"[A1][A2]...[A9][B1][B2]...[B9]...[I9]\") com as casas vazias sendo representadas com um ponto e as preenchidas com os seus próprios valores;\n",
        "  - *grid_dict*: representação em dicionário em que as chaves são as casas e os valores são pontos para casas vazias ou dígitos de 1 a 9 para casas preenchidas.\n",
        "\n",
        "A seguir, temos um tabuleiro e suas respectivas representações exemplificando o proposto acima:"
      ],
      "metadata": {
        "id": "LKayrGik48Dc"
      }
    },
    {
      "cell_type": "code",
      "source": [
        "grid_str = \"4.....8.5.3..........7......2.....6.....8.4......1.......6.3.7.5..2.....1.4......\"\n",
        "grid_dict = dict(zip(boxes, grid_str))"
      ],
      "metadata": {
        "id": "b_lYNWCD4-w9"
      },
      "execution_count": null,
      "outputs": []
    },
    {
      "cell_type": "code",
      "source": [
        "def display(grid_dict):\n",
        "    \"\"\"\n",
        "    Display the values as a 2-D grid.\n",
        "    Input: The sudoku in dictionary form\n",
        "    Output: None\n",
        "    \"\"\"\n",
        "    width = 1+max(len(grid_dict[s]) for s in boxes)\n",
        "    line = '+'.join(['-'*(width*3 + 1)]*3)\n",
        "    for r in rows:\n",
        "        print('', ''.join(grid_dict[r+c].center(width)+('| ' if c in '36' else '')\n",
        "                      for c in cols))\n",
        "        if r in 'CF': print(line)\n",
        "\n",
        "display(grid_dict)"
      ],
      "metadata": {
        "id": "U4PFlA-B5Bo2"
      },
      "execution_count": null,
      "outputs": []
    },
    {
      "cell_type": "markdown",
      "source": [
        "Implemente a função *solution* que recebe como input um tabuleiro no formato *grid_str* e retorna a solução do jogo no formato *grid_dict*.\n",
        "\n",
        "Teste a sua função com os exemplos a seguir:\n",
        "\n",
        "  - Tabuleiro fácil:\n",
        "```\n",
        "In:  \n",
        "  grid_str = '..3.2.6..9..3.5..1..18.64....81.29..7.......8..67.82....26.95..8..2.3..9..5.1.3..'\n",
        "  solved_board = solution(grid_str)\n",
        "  display(solved_board)\n",
        "==============================================================================================\n",
        "Out:\n",
        "4 8 3 | 9 2 1 | 6 5 7\n",
        "9 6 7 | 3 4 5 | 8 2 1\n",
        "2 5 1 | 8 7 6 | 4 9 3\n",
        "------+-------+------\n",
        "5 4 8 | 1 3 2 | 9 7 6\n",
        "7 2 9 | 5 6 4 | 1 3 8\n",
        "1 3 6 | 7 9 8 | 2 4 5\n",
        "------+-------+------\n",
        "3 7 2 | 6 8 9 | 5 1 4\n",
        "8 1 4 | 2 5 3 | 7 6 9\n",
        "6 9 5 | 4 1 7 | 3 8 2\n",
        "```\n",
        "  - Tabuleiro difícil:\n",
        "```\n",
        "In:  \n",
        "  grid_str = \"4.....8.5.3..........7......2.....6.....8.4......1.......6.3.7.5..2.....1.4......\"\n",
        "  solved_board = solution(grid_str)\n",
        "  display(solved_board)\n",
        "==============================================================================================\n",
        "Out:\n",
        "4 1 7 | 3 6 9 | 8 2 5\n",
        "6 3 2 | 1 5 8 | 9 4 7\n",
        "9 5 8 | 7 2 4 | 3 1 6\n",
        "------+-------+------\n",
        "8 2 5 | 4 3 7 | 1 6 9\n",
        "7 9 1 | 5 8 6 | 4 3 2\n",
        "3 4 6 | 9 1 2 | 7 5 8\n",
        "------+-------+------\n",
        "2 8 9 | 6 4 3 | 5 7 1\n",
        "5 7 3 | 2 9 1 | 6 8 4\n",
        "1 6 4 | 8 7 5 | 2 9 3\n",
        "```\n",
        "\n"
      ],
      "metadata": {
        "id": "U1iS7G9U5b4S"
      }
    },
    {
      "cell_type": "code",
      "source": [],
      "metadata": {
        "id": "XphOgAJqIt7-"
      },
      "execution_count": null,
      "outputs": []
    }
  ]
}